{
  "cells": [
    {
      "cell_type": "markdown",
      "metadata": {
        "id": "B_fM69KiJ9VF"
      },
      "source": [
        "# Python Basics\n",
        "## Guiding Principle of Python's Design"
      ]
    },
    {
      "cell_type": "code",
      "execution_count": 1,
      "metadata": {
        "colab": {
          "base_uri": "https://localhost:8080/"
        },
        "id": "4hRr9IVZJ9VH",
        "outputId": "1ac64ccb-07e7-42b6-a335-8d201a752490"
      },
      "outputs": [
        {
          "name": "stdout",
          "output_type": "stream",
          "text": [
            "The Zen of Python, by Tim Peters\n",
            "\n",
            "Beautiful is better than ugly.\n",
            "Explicit is better than implicit.\n",
            "Simple is better than complex.\n",
            "Complex is better than complicated.\n",
            "Flat is better than nested.\n",
            "Sparse is better than dense.\n",
            "Readability counts.\n",
            "Special cases aren't special enough to break the rules.\n",
            "Although practicality beats purity.\n",
            "Errors should never pass silently.\n",
            "Unless explicitly silenced.\n",
            "In the face of ambiguity, refuse the temptation to guess.\n",
            "There should be one-- and preferably only one --obvious way to do it.\n",
            "Although that way may not be obvious at first unless you're Dutch.\n",
            "Now is better than never.\n",
            "Although never is often better than *right* now.\n",
            "If the implementation is hard to explain, it's a bad idea.\n",
            "If the implementation is easy to explain, it may be a good idea.\n",
            "Namespaces are one honking great idea -- let's do more of those!\n"
          ]
        }
      ],
      "source": [
        "import this"
      ]
    },
    {
      "cell_type": "markdown",
      "metadata": {
        "id": "9SW9-XbmJ9VJ"
      },
      "source": [
        "## 1. Variable Assignment and Basic Data Types\n",
        "Variable naming rules: \n",
        "1. Variable names are case sensitive\n",
        "2. Variable must start with a character or underscore\n",
        "3. Variable names can only contain alphanumeric characters and underscores\n",
        "4. Variable name cannot be a python keyword\n",
        "\n",
        "- ### Integers"
      ]
    },
    {
      "cell_type": "code",
      "execution_count": null,
      "metadata": {
        "colab": {
          "base_uri": "https://localhost:8080/"
        },
        "id": "VKiTa-EBJ9VK",
        "outputId": "e2568c7b-800e-4272-cc49-e61b5cbd7332"
      },
      "outputs": [
        {
          "name": "stdout",
          "output_type": "stream",
          "text": [
            "1 3 2 50 -4\n"
          ]
        }
      ],
      "source": [
        "# variable_name = value\n",
        "num_one = 1\n",
        "num_two = 3\n",
        "num_three = 2\n",
        "_num_ex = 50\n",
        "num4 = -4\n",
        "print(num_one, num_two, num_three, _num_ex, num4)"
      ]
    },
    {
      "cell_type": "markdown",
      "metadata": {
        "id": "HmvcNFVYJ9VL"
      },
      "source": [
        "- ### Strings"
      ]
    },
    {
      "cell_type": "code",
      "execution_count": null,
      "metadata": {
        "colab": {
          "base_uri": "https://localhost:8080/"
        },
        "id": "gBji0af7J9VM",
        "outputId": "0449ac1b-94e3-40c2-fcf7-bad0a41c6a3c"
      },
      "outputs": [
        {
          "name": "stdout",
          "output_type": "stream",
          "text": [
            "this is my first string! 12345 !@#$%^&*()\n"
          ]
        }
      ],
      "source": [
        "# strings can be decalred in two ways \"this is a string\", 'single comma'\n",
        "string_one = \"this is my first string!\"\n",
        "string_two = '12345'\n",
        "string3 = \"!@#$%^&*()\"\n",
        "print(string_one, string_two, string3)"
      ]
    },
    {
      "cell_type": "markdown",
      "metadata": {
        "id": "5095zQ7WJ9VM"
      },
      "source": [
        "- ### Float"
      ]
    },
    {
      "cell_type": "code",
      "execution_count": null,
      "metadata": {
        "colab": {
          "base_uri": "https://localhost:8080/"
        },
        "id": "qWpqRvFnJ9VN",
        "outputId": "948a7b76-761e-45fe-eb89-7c9ee5ddad6b"
      },
      "outputs": [
        {
          "name": "stdout",
          "output_type": "stream",
          "text": [
            "1.34567 4.2323 1.0\n"
          ]
        }
      ],
      "source": [
        "# numbers with decimals\n",
        "float_num = 1.34567\n",
        "float_2 = 4.2323\n",
        "float_3 = 1.000\n",
        "print(float_num, float_2, float_3)"
      ]
    },
    {
      "cell_type": "markdown",
      "metadata": {
        "id": "Yf2V9c4EJ9VN"
      },
      "source": [
        "- ### Booleans"
      ]
    },
    {
      "cell_type": "code",
      "execution_count": null,
      "metadata": {
        "colab": {
          "base_uri": "https://localhost:8080/"
        },
        "id": "qr-MRuw3J9VO",
        "outputId": "7cfc6c23-b4f9-461f-9540-0b13765d8ff8"
      },
      "outputs": [
        {
          "name": "stdout",
          "output_type": "stream",
          "text": [
            "this is a normal print statementTrue\n",
            "value of bool_1 is True\n"
          ]
        }
      ],
      "source": [
        "# True, False\n",
        "bool_1 = True\n",
        "bool_2 = False\n",
        "print(\"this is a normal print statement\" + str(bool_1))\n",
        "print(f\"value of bool_1 is {bool_1}\")"
      ]
    },
    {
      "cell_type": "markdown",
      "metadata": {
        "id": "f_oPYHnsJ9VP"
      },
      "source": [
        "- ### Multiline Assignment"
      ]
    },
    {
      "cell_type": "code",
      "execution_count": null,
      "metadata": {
        "colab": {
          "base_uri": "https://localhost:8080/"
        },
        "id": "-zOZkKtIJ9VQ",
        "outputId": "0265acd3-aa7b-454a-9f5c-3e29bc8c0eba"
      },
      "outputs": [
        {
          "name": "stdout",
          "output_type": "stream",
          "text": [
            "1 String 3.14 False\n"
          ]
        }
      ],
      "source": [
        "var1, var2, var3, var4 = 1, \"String\", 3.14, False # both sides have equal variables and values\n",
        "print(var1, var2, var3, var4)"
      ]
    },
    {
      "cell_type": "markdown",
      "metadata": {
        "id": "XAcI5g-0J9VQ"
      },
      "source": [
        "## 2. Comments"
      ]
    },
    {
      "cell_type": "code",
      "execution_count": null,
      "metadata": {
        "colab": {
          "base_uri": "https://localhost:8080/",
          "height": 35
        },
        "id": "xR1SpWkoJ9VQ",
        "outputId": "f0db79b7-1cd8-4a18-e0d4-67e7fc162d66"
      },
      "outputs": [
        {
          "data": {
            "application/vnd.google.colaboratory.intrinsic+json": {
              "type": "string"
            },
            "text/plain": [
              "' this is a\\nmultiline\\ncomment\\nfor demo '"
            ]
          },
          "execution_count": 15,
          "metadata": {},
          "output_type": "execute_result"
        }
      ],
      "source": [
        "# this is a comment\n",
        "string_ex = \"comment\"\n",
        "''' this is a\n",
        "multiline\n",
        "comment\n",
        "for demo '''"
      ]
    },
    {
      "cell_type": "markdown",
      "metadata": {
        "id": "vygkhkiEJ9VQ"
      },
      "source": [
        "## 3. Python `type()` function"
      ]
    },
    {
      "cell_type": "code",
      "execution_count": null,
      "metadata": {
        "colab": {
          "base_uri": "https://localhost:8080/"
        },
        "id": "KIRyFkD4J9VQ",
        "outputId": "716d3031-c275-412d-ae1e-294f8e8d3d64"
      },
      "outputs": [
        {
          "name": "stdout",
          "output_type": "stream",
          "text": [
            "<class 'int'> <class 'str'> <class 'float'> <class 'bool'>\n"
          ]
        }
      ],
      "source": [
        "print(type(var1), type(var2), type(var3), type(var4))\n",
        "var5 = 2\n",
        "var6 = \"2\"\n",
        "type(var5)"
      ]
    },
    {
      "cell_type": "markdown",
      "metadata": {
        "id": "1AwW3dcAJ9VR"
      },
      "source": [
        "## 4. Type Casting"
      ]
    },
    {
      "cell_type": "code",
      "execution_count": null,
      "metadata": {
        "id": "TBgDPm3nJ9VR"
      },
      "outputs": [],
      "source": [
        "# convert anything to a string\n",
        "# string to int, float, bool if they have only that data type\n",
        "str(var1), str(var3), str(var4)\n",
        "string_wtih_num = \"3\"\n",
        "int_with_num = int(string_wtih_num)"
      ]
    },
    {
      "cell_type": "code",
      "execution_count": null,
      "metadata": {
        "id": "gPeGyub4ptmf"
      },
      "outputs": [],
      "source": [
        "# declare a float and covert it to a string\n",
        "# declare a string and covert it to a float\n",
        "# show both conversions by printing the type()"
      ]
    },
    {
      "cell_type": "markdown",
      "metadata": {
        "id": "5srzF1H9J9VR"
      },
      "source": [
        "## 5. Strings"
      ]
    },
    {
      "cell_type": "markdown",
      "metadata": {
        "id": "lryJnXhsJ9VS"
      },
      "source": [
        "- ### Multiline Strings"
      ]
    },
    {
      "cell_type": "code",
      "execution_count": null,
      "metadata": {
        "colab": {
          "base_uri": "https://localhost:8080/"
        },
        "id": "0zAE6EEkJ9VS",
        "outputId": "d2517587-9493-442c-9b09-69daa87b0add"
      },
      "outputs": [
        {
          "name": "stdout",
          "output_type": "stream",
          "text": [
            "this is an example\n",
            "of a multi line\n",
            "string. \n",
            "it is many lines!\n"
          ]
        }
      ],
      "source": [
        "multiline_string = '''this is an example\n",
        "of a multi line\n",
        "string. \n",
        "it is many lines!'''\n",
        "print(multiline_string)"
      ]
    },
    {
      "cell_type": "markdown",
      "metadata": {
        "id": "iZk8sUZCJ9VS"
      },
      "source": [
        "- ### String Indexing"
      ]
    },
    {
      "cell_type": "code",
      "execution_count": null,
      "metadata": {
        "colab": {
          "base_uri": "https://localhost:8080/"
        },
        "id": "JHvYI0SSJ9VT",
        "outputId": "a413e4fe-0d26-4bd7-aeec-6c88166d404e"
      },
      "outputs": [
        {
          "name": "stdout",
          "output_type": "stream",
          "text": [
            "n o\n"
          ]
        }
      ],
      "source": [
        "# index starts at 0\n",
        "# P Y T H O N\n",
        "# 0 1 2 3 4 5\n",
        "# negative indexing\n",
        "# P  Y  T  H  O  N\n",
        "# -6 -5 -4 -3 -2 -1\n",
        "indexed_string = \"python\"\n",
        "indexed_string[2]\n",
        "indexed_string[-4]\n",
        "print(indexed_string[-1], indexed_string[-2])"
      ]
    },
    {
      "cell_type": "code",
      "execution_count": null,
      "metadata": {
        "colab": {
          "base_uri": "https://localhost:8080/"
        },
        "id": "hH-n-S2osVlL",
        "outputId": "4f75052d-3b28-4346-eafe-e8a8f7c714f2"
      },
      "outputs": [
        {
          "name": "stdout",
          "output_type": "stream",
          "text": [
            "tho\n",
            "is an example\n",
            "of a multi line\n",
            "string. \n",
            "it is many lines!\n"
          ]
        }
      ],
      "source": [
        "# string slicing [start_index:end_index] => start_index is inclusive, end_index is exclusive\n",
        "print(indexed_string[2:5])\n",
        "# print(multiline_string)\n",
        "# print(multiline_string[3:14])\n",
        "# print(multiline_string[14:-1])\n",
        "# print(multiline_string[-5:-1])\n",
        "# print(multiline_string[:-1])\n",
        "print(multiline_string[5:])"
      ]
    },
    {
      "cell_type": "markdown",
      "metadata": {
        "id": "c_hYl3iNJ9VT"
      },
      "source": [
        "- ### String functions `len(), lower(), strip(), replace()`"
      ]
    },
    {
      "cell_type": "code",
      "execution_count": null,
      "metadata": {
        "colab": {
          "base_uri": "https://localhost:8080/"
        },
        "id": "rm8iPT-nJ9VT",
        "outputId": "9de54d93-8e37-49fd-8ffe-344fccf04583"
      },
      "outputs": [
        {
          "name": "stdout",
          "output_type": "stream",
          "text": [
            "61\n",
            "mixedd case string\n",
            "   string     \n",
            "string\n",
            "mixe case string\n"
          ]
        }
      ],
      "source": [
        "len_of_multline = len(multiline_string)\n",
        "print(len_of_multline)\n",
        "mixed_case = \"mIXEDd CaSE sTRiNG\"\n",
        "lower_case = mixed_case.lower()\n",
        "print(lower_case)\n",
        "# strip removes spaces from the beginning and ending\n",
        "spaced_string = \"   string     \"\n",
        "print(spaced_string)\n",
        "stripped_string = spaced_string.strip()\n",
        "print(stripped_string)\n",
        "# replace function - replaces any substring from a string\n",
        "corrected_string = lower_case.replace('d', '')\n",
        "print(corrected_string)"
      ]
    },
    {
      "cell_type": "markdown",
      "metadata": {
        "id": "fmKnST07J9VT"
      },
      "source": [
        "- ### String Slicing"
      ]
    },
    {
      "cell_type": "code",
      "execution_count": null,
      "metadata": {
        "colab": {
          "base_uri": "https://localhost:8080/",
          "height": 35
        },
        "id": "TwZkKeX0J9VT",
        "outputId": "b9a69002-0ae4-41f5-9daf-e73ef005d717"
      },
      "outputs": [
        {
          "data": {
            "application/vnd.google.colaboratory.intrinsic+json": {
              "type": "string"
            },
            "text/plain": [
              "'s'"
            ]
          },
          "execution_count": 85,
          "metadata": {},
          "output_type": "execute_result"
        }
      ],
      "source": [
        "multiline_string[3]"
      ]
    },
    {
      "cell_type": "markdown",
      "metadata": {
        "id": "eX7wqu3ZJ9VU"
      },
      "source": [
        "- ### String Concatenation"
      ]
    },
    {
      "cell_type": "code",
      "execution_count": null,
      "metadata": {
        "colab": {
          "base_uri": "https://localhost:8080/"
        },
        "id": "tS9jXqf1J9VU",
        "outputId": "f2ca30ee-15b3-467d-cb4b-ffbb0182ec20"
      },
      "outputs": [
        {
          "name": "stdout",
          "output_type": "stream",
          "text": [
            "hello world\n"
          ]
        }
      ],
      "source": [
        "string_a = \"hello\"\n",
        "string_b = \" world\"\n",
        "string_c = string_a + string_b\n",
        "print(string_c)"
      ]
    },
    {
      "cell_type": "markdown",
      "metadata": {
        "id": "eHiTR5f3J9VU"
      },
      "source": [
        "## 6. Comparison , Identity, Membership Operators\n",
        "`>=, ==, =<, in, not in, is, is not`"
      ]
    },
    {
      "cell_type": "code",
      "execution_count": null,
      "metadata": {
        "colab": {
          "base_uri": "https://localhost:8080/"
        },
        "id": "2TNMSZYXJ9VU",
        "outputId": "993a31d6-49d0-42ca-8837-17c1978c5850"
      },
      "outputs": [
        {
          "name": "stdout",
          "output_type": "stream",
          "text": [
            "False\n",
            "True\n"
          ]
        }
      ],
      "source": [
        "# comparison operators\n",
        "num_one = 1\n",
        "num_two = 3\n",
        "num_three = 2.5\n",
        "_num_ex = 50\n",
        "num4 = 50\n",
        "\n",
        "# print(num_one > num_two)\n",
        "# print(num_one < num_two)\n",
        "# print(_num_ex == num4)\n",
        "# print(num_three >= num_two)\n",
        "\n",
        "# strings\n",
        "string_a = \"string\"\n",
        "string_b = \"STRING\"\n",
        "print(string_a == string_b)\n",
        "check_strings = string_a == string_b.lower()\n",
        "print(check_strings)"
      ]
    },
    {
      "cell_type": "code",
      "execution_count": null,
      "metadata": {
        "colab": {
          "base_uri": "https://localhost:8080/"
        },
        "id": "rMYTQrbzx6Ax",
        "outputId": "f5adb057-6a49-4bd9-be18-4b3af669cd40"
      },
      "outputs": [
        {
          "name": "stdout",
          "output_type": "stream",
          "text": [
            "True\n",
            "True\n"
          ]
        }
      ],
      "source": [
        "# membership operator\n",
        "print('s' in string_a)\n",
        "print('a' not in string_b)"
      ]
    },
    {
      "cell_type": "code",
      "execution_count": null,
      "metadata": {
        "colab": {
          "base_uri": "https://localhost:8080/"
        },
        "id": "YlJ4CBdIySYt",
        "outputId": "a9c5f067-dcc9-4a9f-80a2-fd6f86ef2d1a"
      },
      "outputs": [
        {
          "name": "stdout",
          "output_type": "stream",
          "text": [
            "True\n",
            "True\n",
            "False\n"
          ]
        }
      ],
      "source": [
        "# identity operator is and is not\n",
        "original_string = \"example\"\n",
        "copy_string = original_string\n",
        "print(original_string == copy_string)\n",
        "print(original_string is copy_string)\n",
        "print(num_one is num_two)"
      ]
    },
    {
      "cell_type": "markdown",
      "metadata": {
        "id": "O0Guus_qJ9VU"
      },
      "source": [
        "## 7. Arithmetic and Assignment Operators"
      ]
    },
    {
      "cell_type": "code",
      "execution_count": null,
      "metadata": {
        "colab": {
          "base_uri": "https://localhost:8080/"
        },
        "id": "uaGR3RCQJ9VV",
        "outputId": "12472689-0e7e-498a-e3cf-bf8392953e3c"
      },
      "outputs": [
        {
          "name": "stdout",
          "output_type": "stream",
          "text": [
            "5\n",
            "-2\n",
            "divide 3.0\n",
            "multiply 15\n",
            "reminder/modulo 0\n",
            "exponent 125\n"
          ]
        }
      ],
      "source": [
        "# + - / \n",
        "# reminder % \n",
        "# multiply * \n",
        "# exponent **\n",
        "print(2+3)\n",
        "print(3-5)\n",
        "print(\"divide\", 6/2)\n",
        "print(\"multiply\", 3*5)\n",
        "print(\"reminder/modulo\", 6%3)\n",
        "print(\"exponent\", 5**3) # 5^3"
      ]
    },
    {
      "cell_type": "code",
      "execution_count": null,
      "metadata": {
        "colab": {
          "base_uri": "https://localhost:8080/"
        },
        "id": "gNIbylWX9aka",
        "outputId": "c455cd70-60df-40d3-be16-c27f55898e2e"
      },
      "outputs": [
        {
          "name": "stdout",
          "output_type": "stream",
          "text": [
            "once again\n",
            "onceonceonce\n"
          ]
        }
      ],
      "source": [
        "# string operations\n",
        "print(\"once\" + \" again\")\n",
        "print(\"once\"*3)"
      ]
    },
    {
      "cell_type": "code",
      "execution_count": null,
      "metadata": {
        "colab": {
          "base_uri": "https://localhost:8080/"
        },
        "id": "5xsStKtg-MjD",
        "outputId": "825c58c6-1f3d-4332-c639-1ad9b016e391"
      },
      "outputs": [
        {
          "name": "stdout",
          "output_type": "stream",
          "text": [
            "6\n",
            "4\n",
            "12\n",
            "4.0\n"
          ]
        }
      ],
      "source": [
        "num1 = 5\n",
        "num1 += 1\n",
        "print(num1)\n",
        "num1 -= 2\n",
        "print(num1)\n",
        "num1 *= 3\n",
        "print(num1)\n",
        "num1 /= 3\n",
        "print(num1)"
      ]
    },
    {
      "cell_type": "code",
      "execution_count": null,
      "metadata": {
        "colab": {
          "base_uri": "https://localhost:8080/"
        },
        "id": "0058kttf-k_6",
        "outputId": "a55a153a-b8db-4e69-dece-5b209cfc398e"
      },
      "outputs": [
        {
          "name": "stdout",
          "output_type": "stream",
          "text": [
            "python\n",
            "python learning \n",
            "python learning python learning python learning \n"
          ]
        }
      ],
      "source": [
        "dummy = \"python\"\n",
        "print(dummy)\n",
        "dummy += \" learning \"\n",
        "print(dummy)\n",
        "dummy *= 3\n",
        "print(dummy)"
      ]
    },
    {
      "cell_type": "markdown",
      "metadata": {
        "id": "LxlSfxqcJ9VV"
      },
      "source": [
        "## 8. Lists\n",
        "- ### Assignment"
      ]
    },
    {
      "cell_type": "code",
      "execution_count": null,
      "metadata": {
        "colab": {
          "base_uri": "https://localhost:8080/"
        },
        "id": "Zz2sgFVqJ9VW",
        "outputId": "3e59340d-b300-41ce-e6a8-2fb4401f9d9f"
      },
      "outputs": [
        {
          "name": "stdout",
          "output_type": "stream",
          "text": [
            "[1, 2, 3, 4, 5]\n",
            "['hello', 'world']\n",
            "[1, 2, 3, 3, 1.1, 4.5, 0, False, True, 'python is easy']\n",
            "4\n",
            "[1, 2, 3, 16, 5]\n"
          ]
        }
      ],
      "source": [
        "# LIST is a collection of heterogenous data - so it can hold any type of data\n",
        "# lists are []\n",
        "first_list = [1, 2, 3, 4 ,5]\n",
        "print(first_list)\n",
        "second_list = [\"hello\", 'world']\n",
        "print(second_list)\n",
        "third_list = [1,2,3,3, 1.1, 4.5, 0, False, True, \"python is easy\"]\n",
        "print(third_list)\n",
        "\n",
        "# changing the value of lists\n",
        "print(first_list[3])\n",
        "first_list[3] = 16\n",
        "print(first_list)"
      ]
    },
    {
      "cell_type": "markdown",
      "metadata": {
        "id": "JKpYJvf3J9VW"
      },
      "source": [
        "- ### List Index and Slicing"
      ]
    },
    {
      "cell_type": "code",
      "execution_count": null,
      "metadata": {
        "colab": {
          "base_uri": "https://localhost:8080/"
        },
        "id": "ukLmzRFfJ9VW",
        "outputId": "e6d1d72e-9c0e-4942-9e57-9ac46bbf4567"
      },
      "outputs": [
        {
          "name": "stdout",
          "output_type": "stream",
          "text": [
            "python is easy\n",
            "True\n",
            "[False, True, 'python is easy']\n"
          ]
        }
      ],
      "source": [
        "print(third_list[-1])\n",
        "print(third_list[-2])\n",
        "print(third_list[-3:])"
      ]
    },
    {
      "cell_type": "markdown",
      "metadata": {
        "id": "A29XI8hmJ9VW"
      },
      "source": [
        "- ### List functions `insert(), append(), extend(). remove(), sort()`"
      ]
    },
    {
      "cell_type": "code",
      "execution_count": null,
      "metadata": {
        "colab": {
          "base_uri": "https://localhost:8080/"
        },
        "id": "46QVzGjMJ9VX",
        "outputId": "8fb0c891-d388-43fe-ad10-b4e92d6acca1"
      },
      "outputs": [
        {
          "name": "stdout",
          "output_type": "stream",
          "text": [
            "['hello', 'world']\n",
            "['hello', 'new', 'world']\n",
            "['hello', 'new', 'world', 3]\n",
            "['hello', 'new', 'world', 3, True, False]\n",
            "['hello', 'new', 'world', 3, True, False, [3.14, 4.51]]\n",
            "[3.14, 4.51]\n",
            "3.14\n",
            "['hello', 'new', 'world', 12, True, False, [3.14, 4.51]]\n"
          ]
        }
      ],
      "source": [
        "second_list = [\"hello\", 'world']\n",
        "print(second_list)\n",
        "second_list.insert(1, \"new\")\n",
        "print(second_list)\n",
        "\n",
        "second_list.append(3)\n",
        "print(second_list)\n",
        "second_list.extend([True, False]) # extend takes an iterable and adds its elements to the original list\n",
        "print(second_list)\n",
        "second_list.append([3.14, 4.51]) # append adds the element itself to the list\n",
        "print(second_list)\n",
        "print(second_list[-1])\n",
        "print(second_list[-1][0])\n",
        "second_list[3] *= 4 # second_list[3] = second_list[3] * 4\n",
        "print(second_list)"
      ]
    },
    {
      "cell_type": "markdown",
      "metadata": {
        "id": "2Rvh_Fw4J9VX"
      },
      "source": [
        "- ### Copying a list with `copy()`"
      ]
    },
    {
      "cell_type": "code",
      "execution_count": null,
      "metadata": {
        "colab": {
          "base_uri": "https://localhost:8080/"
        },
        "id": "EgMHhi_kJ9VX",
        "outputId": "ce74a5ca-8dfd-42c2-ab2a-1b194786da48"
      },
      "outputs": [
        {
          "name": "stdout",
          "output_type": "stream",
          "text": [
            "[1, 2, 3, 3, 1.1, 4.5, 0, False, True, 'python is easy']\n",
            "fourth list is [1, 2, 3, 3, 1.1, 4.5, 0, False, True, 'python is easy', 'new entry']\n",
            "third list is [1, 2, 3, 3, 1.1, 4.5, 0, False, True, 'python is easy', 'new entry']\n",
            "True\n",
            "False\n",
            "[1, 2, 3, 3, 1.1, 4.5, 0, False, True, 'python is easy', 'new entry']\n",
            "[1, 2, 3, 3, 1.1, 4.5, 0, False, True, 'python is easy']\n",
            "[1, 2, 3, 3, 1.1, 4.5, 0, False, True, 'python is easy', 'new entry']\n",
            "11\n"
          ]
        }
      ],
      "source": [
        "third_list = [1,2,3,3, 1.1, 4.5, 0, False, True, \"python is easy\"]\n",
        "fourth_list = third_list # it is passing the reference, and not the copy of the value\n",
        "print(fourth_list)\n",
        "fourth_list.append(\"new entry\")\n",
        "print('fourth list is', fourth_list)\n",
        "print('third list is', third_list)\n",
        "print(fourth_list is third_list)\n",
        "copied_list = third_list.copy() # copying values alone, not the reference\n",
        "print(copied_list is third_list)\n",
        "print(copied_list)\n",
        "copied_list.remove('new entry')\n",
        "print(copied_list)\n",
        "print(third_list)\n",
        "print(len(third_list))"
      ]
    },
    {
      "cell_type": "markdown",
      "metadata": {
        "id": "0Oa_5XcjJ9VX"
      },
      "source": [
        "## 9. Tuples\n",
        "- ### Assignment and Unpacking"
      ]
    },
    {
      "cell_type": "code",
      "execution_count": null,
      "metadata": {
        "colab": {
          "base_uri": "https://localhost:8080/"
        },
        "id": "tIrrIU4sJ9VX",
        "outputId": "f0f630dc-db19-4054-8e05-0db12408de40"
      },
      "outputs": [
        {
          "name": "stdout",
          "output_type": "stream",
          "text": [
            "(1, 2, 3)\n",
            "True\n"
          ]
        }
      ],
      "source": [
        "# like lists but they are immutable, ie, they cant be changed\n",
        "# tuples are represented by ()\n",
        "ex_tuple = (1, 2, 3)\n",
        "print(ex_tuple)\n",
        "new_tuple = ex_tuple\n",
        "print(new_tuple is ex_tuple)"
      ]
    },
    {
      "cell_type": "code",
      "execution_count": null,
      "metadata": {
        "colab": {
          "base_uri": "https://localhost:8080/"
        },
        "id": "0oOqzXM3J9VY",
        "outputId": "862536ad-94b2-410f-a763-2f1408710327"
      },
      "outputs": [
        {
          "name": "stdout",
          "output_type": "stream",
          "text": [
            "1 2 3\n",
            "(2,)\n"
          ]
        },
        {
          "data": {
            "text/plain": [
              "3"
            ]
          },
          "execution_count": 120,
          "metadata": {},
          "output_type": "execute_result"
        }
      ],
      "source": [
        "a, b, c = ex_tuple\n",
        "print(a, b, c)\n",
        "single_value = (2,)\n",
        "print(single_value)\n",
        "len(new_tuple)"
      ]
    },
    {
      "cell_type": "markdown",
      "metadata": {
        "id": "nVet_70lJ9VY"
      },
      "source": [
        "## 10. Control Flow\n",
        "- ### IF"
      ]
    },
    {
      "cell_type": "code",
      "execution_count": null,
      "metadata": {
        "colab": {
          "base_uri": "https://localhost:8080/"
        },
        "id": "TT-qNn5eJ9VY",
        "outputId": "564f3a63-d273-4f54-a32f-5d49627b056f"
      },
      "outputs": [
        {
          "name": "stdout",
          "output_type": "stream",
          "text": [
            "correct\n",
            "equal\n",
            "302\n",
            "-496\n",
            "0\n",
            "This should happen\n",
            "This should happen\n",
            "statement\n",
            "not in\n",
            "[2, 4]\n"
          ]
        }
      ],
      "source": [
        "if 3<4:\n",
        "  print(\"correct\")\n",
        "\n",
        "num1 = 2\n",
        "num3 = 4\n",
        "new_list = [num1, num3]\n",
        "if num4 % num1 == 0:\n",
        "  print(\"equal\")\n",
        "  print(num1 + 300)\n",
        "\n",
        "print(num3-500)\n",
        "\n",
        "num_list = []\n",
        "print(len(num_list))\n",
        "if num_list: # if list len is greated than 0 then true\n",
        "  print(\"the len of list is non zero\")\n",
        "\n",
        "emptyString = \"\"\n",
        "nonempty = \"Something\"\n",
        "\n",
        "if emptyString:\n",
        "  print(\"this should not happen\")\n",
        "\n",
        "if nonempty:\n",
        "  print(\"This should happen\")\n",
        "\n",
        "# for numbers it is false if number == 0, else it is true\n",
        "num0 = 0\n",
        "num1 = 50\n",
        "if num0:\n",
        "  print(\"this should not happen\")\n",
        "\n",
        "if num1:\n",
        "  print(\"This should happen\")\n",
        "\n",
        "if \"thing\" in nonempty:\n",
        "  print(\"statement\")\n",
        "\n",
        "if \"some\" not in nonempty:\n",
        "  print(\"not in\")\n",
        "\n",
        "if 4 in new_list and 6 in new_list:\n",
        "  print(\"4 exists\")\n",
        "\n",
        "if 30 not in new_list:\n",
        "  print(new_list)"
      ]
    },
    {
      "cell_type": "markdown",
      "metadata": {
        "id": "T94_urDvJ9VY"
      },
      "source": [
        "- ### ELSE"
      ]
    },
    {
      "cell_type": "code",
      "execution_count": null,
      "metadata": {
        "colab": {
          "base_uri": "https://localhost:8080/"
        },
        "id": "TxKX483XJ9VY",
        "outputId": "12503c59-2d7e-45c1-d199-a16f3150c5e7"
      },
      "outputs": [
        {
          "name": "stdout",
          "output_type": "stream",
          "text": [
            "-40\n",
            "-2000\n"
          ]
        }
      ],
      "source": [
        "num0, num1 = -40, 50\n",
        "if num0 > num1:\n",
        "  print(num1)\n",
        "  num1 = 999\n",
        "  print(num1)\n",
        "else:\n",
        "  print(num0)\n",
        "  num0 *= 50\n",
        "  print(num0)"
      ]
    },
    {
      "cell_type": "markdown",
      "metadata": {
        "id": "QR0OCeKOJ9VZ"
      },
      "source": [
        "- ### ELIF"
      ]
    },
    {
      "cell_type": "code",
      "execution_count": null,
      "metadata": {
        "colab": {
          "base_uri": "https://localhost:8080/"
        },
        "id": "_aELePLGJ9VZ",
        "outputId": "d7ef3218-c630-43fc-b5cc-2ef3232fc97a"
      },
      "outputs": [
        {
          "name": "stdout",
          "output_type": "stream",
          "text": [
            "less than\n"
          ]
        }
      ],
      "source": [
        "num0, num1 = 40, 50\n",
        "if num0 > num1:\n",
        "  print(num1)\n",
        "  num1 = 999\n",
        "  print(num1)\n",
        "elif num0 == num1:\n",
        "  print(\"they are equal!\")\n",
        "else:\n",
        "  print(\"less than\")\n"
      ]
    },
    {
      "cell_type": "markdown",
      "metadata": {
        "id": "j3-02dqsJ9Va"
      },
      "source": [
        "- ### Shorthand If Else"
      ]
    },
    {
      "cell_type": "code",
      "execution_count": null,
      "metadata": {
        "colab": {
          "base_uri": "https://localhost:8080/"
        },
        "id": "yXtqTocfJ9Va",
        "outputId": "d1646e99-1f17-4a74-b019-99f81938acfa"
      },
      "outputs": [
        {
          "name": "stdout",
          "output_type": "stream",
          "text": [
            "200\n"
          ]
        }
      ],
      "source": [
        "num1, num2 = 200, 30\n",
        "greatest_num = num1 if num1 > num2 else num2\n",
        "print(greatest_num)"
      ]
    },
    {
      "cell_type": "markdown",
      "metadata": {
        "id": "It2L0UQ7J9Va"
      },
      "source": [
        "## 11. Loops\n",
        "- ### FOR loop"
      ]
    },
    {
      "cell_type": "code",
      "execution_count": null,
      "metadata": {
        "colab": {
          "base_uri": "https://localhost:8080/"
        },
        "id": "Dx-UIl4fJ9Va",
        "outputId": "19022978-3c80-4e83-a54d-d5676ee1bcce"
      },
      "outputs": [
        {
          "name": "stdout",
          "output_type": "stream",
          "text": [
            "0\n",
            "1\n",
            "2\n",
            "3\n",
            "4\n",
            "p\n",
            "y\n",
            "t\n",
            "h\n",
            "o\n",
            "n\n",
            "['python', 'jivi', 'ruby', 'piscil']\n",
            "['python', 'java', 'ruby', 'pascal']\n",
            "0 0\n",
            "0 1\n",
            "0 2\n",
            "0 3\n",
            "0 4\n",
            "1 0\n",
            "1 1\n",
            "1 2\n",
            "1 3\n",
            "1 4\n",
            "2 0\n",
            "2 1\n",
            "2 2\n",
            "2 3\n",
            "2 4\n",
            "3 0\n",
            "3 1\n",
            "3 2\n",
            "3 3\n",
            "3 4\n",
            "4 0\n",
            "4 1\n",
            "4 2\n",
            "4 3\n",
            "4 4\n"
          ]
        }
      ],
      "source": [
        "# iterator - generators\n",
        "# range(n) - then it iterates over 0 to n-1, it is exclusive of n\n",
        "# list(range(5))\n",
        "\n",
        "for i in range(5):\n",
        "  print(i)\n",
        "\n",
        "# strings can be genrators\n",
        "iterString = \"python\"\n",
        "for letter in iterString:\n",
        "  print(letter)\n",
        "\n",
        "iterList = ['python','java','ruby','pascal']\n",
        "newList = []\n",
        "for lang in iterList:\n",
        "  formated_string = lang.replace('a','i')\n",
        "  newList.append(formated_string)\n",
        "\n",
        "print(newList)\n",
        "print(iterList)\n",
        "\n",
        "for i in range(5):\n",
        "  for j in range(5):\n",
        "    print(i , j)"
      ]
    },
    {
      "cell_type": "markdown",
      "metadata": {
        "id": "CuiMZpgRJ9Va"
      },
      "source": [
        "- ### WHILE loop"
      ]
    },
    {
      "cell_type": "code",
      "execution_count": null,
      "metadata": {
        "colab": {
          "base_uri": "https://localhost:8080/"
        },
        "id": "yoaR7e9eJ9Vb",
        "outputId": "daebe91d-7870-46df-b557-dddfb1b662e1"
      },
      "outputs": [
        {
          "name": "stdout",
          "output_type": "stream",
          "text": [
            "0\n",
            "1\n",
            "2\n",
            "3\n",
            "4\n",
            "outside the loop 5\n"
          ]
        }
      ],
      "source": [
        "num = 0\n",
        "while (num < 5) :\n",
        "  print(num)\n",
        "  num += 1\n",
        "\n",
        "print(\"outside the loop\" , num)"
      ]
    },
    {
      "cell_type": "code",
      "execution_count": null,
      "metadata": {
        "colab": {
          "base_uri": "https://localhost:8080/"
        },
        "id": "xAXggAwdiUJa",
        "outputId": "e864316b-77ba-4ce9-dc1e-836f8ad045a7"
      },
      "outputs": [
        {
          "name": "stdout",
          "output_type": "stream",
          "text": [
            "reached ruby\n",
            "['iython', 'java']\n",
            "['python', 'java', 'ruby', 'pascal']\n",
            "reached ruby\n",
            "['iython', 'java', 'iascal']\n",
            "['python', 'java', 'ruby', 'pascal']\n"
          ]
        }
      ],
      "source": [
        "# break statements \"break\"\n",
        "iterList = ['python','java','ruby','pascal']\n",
        "newList = []\n",
        "for lang in iterList:\n",
        "  formated_string = lang.replace('p','i')\n",
        "  if lang == 'ruby':\n",
        "    print(\"reached ruby\")\n",
        "    break\n",
        "  newList.append(formated_string)\n",
        "\n",
        "print(newList)\n",
        "print(iterList)\n",
        "\n",
        "# continue\n",
        "iterList = ['python','java','ruby','pascal']\n",
        "newList = []\n",
        "for lang in iterList:\n",
        "  formated_string = lang.replace('p','i')\n",
        "  if lang == 'ruby':\n",
        "    print(\"reached ruby\")\n",
        "    continue\n",
        "  newList.append(formated_string)\n",
        "\n",
        "print(newList)\n",
        "print(iterList)"
      ]
    },
    {
      "cell_type": "markdown",
      "metadata": {
        "id": "6JxqEkmpJ9Vi"
      },
      "source": [
        "## 12. Dictionaries\n",
        "- ### Assignment"
      ]
    },
    {
      "cell_type": "code",
      "execution_count": null,
      "metadata": {
        "colab": {
          "base_uri": "https://localhost:8080/"
        },
        "id": "nOIm-_SCJ9Vj",
        "outputId": "9afd0f6a-15f7-4ca1-c8b0-6eced07faa30"
      },
      "outputs": [
        {
          "name": "stdout",
          "output_type": "stream",
          "text": [
            "{'language': 'Python', 'ver': 3.9, 'pros': ['fast', 'easy', 'modules'], 'cons': {'slow'}}\n"
          ]
        }
      ],
      "source": [
        "# dictonaries are data structure that stores data as a key value pair\n",
        "# dictonary keys to be imutable\n",
        "# values can be any python data type including basic types and data structures\n",
        "# dictionaries are used with { }\n",
        "# key : value\n",
        "\n",
        "first_dict = {\"language\" : \"Python\" , \"ver\" : 3.9 , \"pros\":[\"fast\",\"easy\",\"modules\"],\"cons\":{'slow',}}\n",
        "print(first_dict)\n",
        "\n",
        "# dictionary are not indexed first_dict[0] <- is not valid\n"
      ]
    },
    {
      "cell_type": "markdown",
      "metadata": {
        "id": "PRJAR7s4J9Vj"
      },
      "source": [
        "- ### Accessing Items"
      ]
    },
    {
      "cell_type": "code",
      "execution_count": null,
      "metadata": {
        "colab": {
          "base_uri": "https://localhost:8080/"
        },
        "id": "YtGyx4ibJ9Vj",
        "outputId": "c53795a4-160a-4ac0-b26c-c7c36694162e"
      },
      "outputs": [
        {
          "name": "stdout",
          "output_type": "stream",
          "text": [
            "Python\n",
            "3.9\n",
            "easy\n"
          ]
        }
      ],
      "source": [
        "print(first_dict['language'])\n",
        "print(first_dict['ver'])\n",
        "print(first_dict['pros'][1])"
      ]
    },
    {
      "cell_type": "markdown",
      "metadata": {
        "id": "mTfmf46sJ9Vj"
      },
      "source": [
        "- ### Update and add Values with `update()`"
      ]
    },
    {
      "cell_type": "code",
      "execution_count": null,
      "metadata": {
        "colab": {
          "base_uri": "https://localhost:8080/"
        },
        "id": "cnxdhOGnJ9Vj",
        "outputId": "506084fb-cfa8-429d-f635-25eb7f2b37a6"
      },
      "outputs": [
        {
          "name": "stdout",
          "output_type": "stream",
          "text": [
            "{'language': ['java', 'python'], 'ver': 3.9, 'pros': ['fast', 'easy', 'modules'], 'cons': {'slow'}, 3: 'three', 'new_key': 'new value'}\n",
            "{'language': ['java', {'python': {'ver': '3.11', 'scripting': 'py'}}], 'ver': 3.9, 'pros': ['fast', 'easy', 'modules'], 'cons': {'slow'}, 3: 'three', 'new_key': 'new value'}\n",
            "{'language': ['java', {'python': {'ver': '3.11', 'scripting': 'py'}}], 'ver': 3.9, 'pros': ['fast', 'easy', 'modules'], 'cons': {'slow'}, 3: 'three', 'new_key': 'new value'}\n",
            "before {'language': ['java', 'python'], 'ver': 3.9, 'pros': ['fast', 'easy', 'modules'], 'cons': {'slow'}, 3: 'three', 'new_key': 'new value'}\n",
            "after {'language': ['java', {'python': {'ver': '3.11', 'scripting': 'py'}}], 'ver': 3.9, 'pros': ['fast', 'easy', 'modules'], 'cons': {'slow'}, 3: 'three', 'new_key': 'new value'}\n",
            "{'language': ['java', {'python': {'ver': '3.11', 'scripting': 'py'}}], 'ver': 3.9, 'pros': ['fast', 'easy', 'modules'], 'cons': {'slow'}, 3: 'three', 'new_key': 'new value'}\n"
          ]
        }
      ],
      "source": [
        "first_dict.update({'language':['java','python']})\n",
        "print(first_dict)\n",
        "\n",
        "first_dict.update({'language':['java',{'python':{'ver':'3.11','scripting':'py'}}]})\n",
        "print(first_dict)\n",
        "\n",
        "first_dict.update({3:'three'})\n",
        "print(first_dict)\n",
        "\n",
        "first_dict['language'] = ['java','python']\n",
        "print(\"before\",first_dict)\n",
        "\n",
        "\n",
        "first_dict['language'][1] = {first_dict['language'][1]:{'ver':'3.11','scripting':'py'}}\n",
        "print(\"after\",first_dict)\n",
        "\n",
        "first_dict['new_key'] = 'new value'\n",
        "print(first_dict)"
      ]
    },
    {
      "cell_type": "markdown",
      "metadata": {
        "id": "Cf4FgMhIJ9Vk"
      },
      "source": [
        "- ### `keys()` and `values()`"
      ]
    },
    {
      "cell_type": "code",
      "execution_count": null,
      "metadata": {
        "colab": {
          "base_uri": "https://localhost:8080/"
        },
        "id": "A4_g-QnTJ9Vk",
        "outputId": "d1ff3079-196c-4871-ca16-a1135662973a"
      },
      "outputs": [
        {
          "name": "stdout",
          "output_type": "stream",
          "text": [
            "dict_keys(['language', 'ver', 'pros', 'cons', 3, 'new_key'])\n",
            "language   :    javascript\n",
            "ver   :    3.9\n",
            "pros   :    ['fast', 'easy', 'modules']\n",
            "cons   :    {'slow'}\n",
            "3   :    three\n",
            "new_key   :    new value\n",
            "<built-in method values of dict object at 0x7fad4270ad80>\n"
          ]
        }
      ],
      "source": [
        "print(first_dict.keys())\n",
        "for key in first_dict.keys():\n",
        "  print(key , \"  :   \" , first_dict[key])\n",
        "\n",
        "print(first_dict.values)"
      ]
    },
    {
      "cell_type": "markdown",
      "metadata": {
        "id": "ODOaTAOEJ9Vm"
      },
      "source": [
        "## 13. Functions\n",
        "- ### Defining a function"
      ]
    },
    {
      "cell_type": "code",
      "execution_count": null,
      "metadata": {
        "colab": {
          "base_uri": "https://localhost:8080/"
        },
        "id": "FdNceQJlJ9Vm",
        "outputId": "8b0c7ce0-f6b8-421a-a2ee-1266b12729aa"
      },
      "outputs": [
        {
          "name": "stdout",
          "output_type": "stream",
          "text": [
            "Hello World\n",
            "[0, 1, 2, 3, 4]\n"
          ]
        }
      ],
      "source": [
        "# function -> code modular\n",
        "# def <function name>:\n",
        "# function_body\n",
        "\n",
        "def print_hello_world():\n",
        "  print(\"Hello World\")\n",
        "\n",
        "\n",
        "print_hello_world()\n",
        "\n",
        "def list_print():\n",
        "  func_list = list(range(5))\n",
        "  print(func_list)\n",
        "\n",
        "list_print()"
      ]
    },
    {
      "cell_type": "markdown",
      "metadata": {
        "id": "XDgXGrKaJ9Vm"
      },
      "source": [
        "- ### Paramters & Arguments"
      ]
    },
    {
      "cell_type": "code",
      "execution_count": null,
      "metadata": {
        "colab": {
          "base_uri": "https://localhost:8080/"
        },
        "id": "ixGbfk41J9Vn",
        "outputId": "cf45ffeb-722d-4e6f-ec16-ad3f9b197748"
      },
      "outputs": [
        {
          "name": "stdout",
          "output_type": "stream",
          "text": [
            "j@v@\n",
            "p@sc@l\n",
            "8\n"
          ]
        }
      ],
      "source": [
        "# def func_name(paramenter_name) :\n",
        "def replace_vowel(word):\n",
        "  print(word.replace('a','@'))\n",
        "\n",
        "replace_vowel(\"java\")\n",
        "replace_word = \"pascal\"\n",
        "replace_vowel(replace_word)\n",
        "\n",
        "def exponent_num(num1 , num2):\n",
        "  print(num1 ** num2)\n",
        "\n",
        "exponent_num(2, 3)"
      ]
    },
    {
      "cell_type": "markdown",
      "metadata": {
        "id": "rZG8Cpg8J9Vn"
      },
      "source": [
        "- ### Default Parameters"
      ]
    },
    {
      "cell_type": "code",
      "execution_count": null,
      "metadata": {
        "colab": {
          "base_uri": "https://localhost:8080/"
        },
        "id": "e7e3pCizJ9Vn",
        "outputId": "4ac32617-3a44-426c-cc36-c69d7ec3a254"
      },
      "outputs": [
        {
          "name": "stdout",
          "output_type": "stream",
          "text": [
            "Python\n",
            "No value passed\n",
            "Python\n",
            "No value passed\n"
          ]
        }
      ],
      "source": [
        "# function_name(param1 = <value>)\n",
        "\n",
        "def check_value_passed(value=None): # None is python null value \n",
        "  if value:\n",
        "    print(value)\n",
        "  else:\n",
        "    print(\"No value passed\")\n",
        "\n",
        "  \n",
        "check_value_passed(\"Python\")\n",
        "check_value_passed()\n",
        "\n",
        "\n",
        "def check_value_passed(value1=None, value2=\"Empty\"): # None is python null value \n",
        "  if value1:\n",
        "    print(value1)\n",
        "  else:\n",
        "    print(\"No value passed\")\n",
        "\n",
        "  \n",
        "check_value_passed(\"Python\")\n",
        "check_value_passed()"
      ]
    },
    {
      "cell_type": "markdown",
      "metadata": {
        "id": "3jIlHfPVJ9Vn"
      },
      "source": [
        "- ### `return`"
      ]
    },
    {
      "cell_type": "code",
      "execution_count": null,
      "metadata": {
        "colab": {
          "base_uri": "https://localhost:8080/"
        },
        "id": "eD2D43YsJ9Vn",
        "outputId": "ee4115fc-c306-44c9-9420-24f32a397316"
      },
      "outputs": [
        {
          "name": "stdout",
          "output_type": "stream",
          "text": [
            "232\n"
          ]
        }
      ],
      "source": [
        "# returns a data from the function can be any object \n",
        "# once a function encounters return ,  the function steps executing\n",
        "\n",
        "def returningFunction(passed_list) :\n",
        "  first_value = passed_list[0]\n",
        "  return first_value\n",
        "\n",
        "value1 = returningFunction([232,2232,2212,11])\n",
        "print(value1)"
      ]
    },
    {
      "cell_type": "markdown",
      "metadata": {
        "id": "3el-B1lrJ9Vn"
      },
      "source": [
        "- ### Scope"
      ]
    },
    {
      "cell_type": "code",
      "execution_count": null,
      "metadata": {
        "colab": {
          "base_uri": "https://localhost:8080/"
        },
        "id": "DWvStSv4J9Vo",
        "outputId": "c7669659-389e-4a4e-ea31-4e7de347212b"
      },
      "outputs": [
        {
          "name": "stdout",
          "output_type": "stream",
          "text": [
            "123\n",
            "new string\n",
            "123\n"
          ]
        }
      ],
      "source": [
        "# local scope and global\n",
        "\n",
        "global_variable = 123\n",
        "\n",
        "def dummy_function() :\n",
        "  global_varaible = \"new string\" # <- scope is local and changes are only to with the scope of the function\n",
        "  print(global_varaible)\n",
        "\n",
        "\n",
        "print(global_variable)\n",
        "dummy_function()\n",
        "print(global_variable)"
      ]
    }
  ],
  "metadata": {
    "colab": {
      "provenance": []
    },
    "kernelspec": {
      "display_name": "base",
      "language": "python",
      "name": "python3"
    },
    "language_info": {
      "codemirror_mode": {
        "name": "ipython",
        "version": 3
      },
      "file_extension": ".py",
      "mimetype": "text/x-python",
      "name": "python",
      "nbconvert_exporter": "python",
      "pygments_lexer": "ipython3",
      "version": "3.11.3"
    }
  },
  "nbformat": 4,
  "nbformat_minor": 0
}
