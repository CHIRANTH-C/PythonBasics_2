{
  "cells": [
    {
      "cell_type": "markdown",
      "metadata": {
        "id": "A5zzdHGORvtv"
      },
      "source": [
        "# OOPS Concepts\n",
        "## 1. Objects\n",
        "An entity that has state and behavior is known as an object e.g., chair, bike, marker, pen, table, car, etc. It can be physical or logical.<br>\n",
        "An object has three characteristics:<br>\n",
        "- **State**: represents the data (value) of an object.<br>\n",
        "- **Behavior**: represents the behavior (functionality) of an object such as deposit, withdraw, etc.<br>\n",
        "- **Identity**: An object identity is typically implemented via a unique ID. The value of the ID is not visible to the external user. However, it is used internally by the JVM to identify each object uniquely.<br><br>\n",
        "## 2. Class\n",
        "A class is a collection of objects. A class contains the blueprints or the prototype from which the objects are being created. It is a logical entity that contains some attributes and methods. <br>\n",
        "- ### Writing a Class\n",
        "\n"
      ]
    },
    {
      "cell_type": "code",
      "execution_count": null,
      "metadata": {
        "colab": {
          "base_uri": "https://localhost:8080/"
        },
        "id": "YehRfMwMRvtv",
        "outputId": "35cabf5b-2fed-4438-a76d-2f09928c1f99"
      },
      "outputs": [
        {
          "name": "stdout",
          "output_type": "stream",
          "text": [
            "3.9 Python True\n",
            "3.11\n",
            "3.9\n"
          ]
        }
      ],
      "source": [
        "class my_first_class:\n",
        "  number = 3.9\n",
        "  name = \"Python\"\n",
        "  is_first_class = True\n",
        "\n",
        "# instantiating / creating an instance\n",
        "first_class = my_first_class()\n",
        "print(first_class.number , first_class.name , first_class.is_first_class)\n",
        "# changing value of instance of class / changing value of object\n",
        "first_class.number = 3.11\n",
        "print(first_class.number)\n",
        "print(my_first_class.number)"
      ]
    },
    {
      "cell_type": "markdown",
      "metadata": {
        "id": "FEqBFGf6Rvtw"
      },
      "source": [
        "- ### Declaring a function"
      ]
    },
    {
      "cell_type": "code",
      "execution_count": null,
      "metadata": {
        "id": "S3X7TRNkRvtw"
      },
      "outputs": [],
      "source": [
        "class car:\n",
        "  make = \"Tata\"\n",
        "  model = \"Tiago\"\n",
        "  color = \"Blue\"\n",
        "  top_speed = 150\n",
        "  current_speed = 0\n",
        "\n",
        "  def increase_speed(self):\n",
        "    self.current_speed += 20\n",
        "\n",
        "  def change_color(self , new_color):\n",
        "    self.color = new_color"
      ]
    },
    {
      "cell_type": "code",
      "execution_count": null,
      "metadata": {
        "colab": {
          "base_uri": "https://localhost:8080/"
        },
        "id": "ENBAfID9gElS",
        "outputId": "bc3e80a7-4340-488c-e0b6-ae278ea6679b"
      },
      "outputs": [
        {
          "name": "stdout",
          "output_type": "stream",
          "text": [
            "Tata Tiago Blue 150 0\n",
            "20\n",
            "teal blue\n"
          ]
        }
      ],
      "source": [
        "my_car = car()\n",
        "print(my_car.make , my_car.model , my_car.color , my_car.top_speed , my_car.current_speed)\n",
        "my_car.increase_speed()\n",
        "print(my_car.current_speed)\n",
        "my_car.change_color(\"teal blue\")\n",
        "print(my_car.color)"
      ]
    },
    {
      "cell_type": "markdown",
      "metadata": {
        "id": "SwxUz9sERvtx"
      },
      "source": [
        "- ### `__init__(self)` function"
      ]
    },
    {
      "cell_type": "code",
      "execution_count": null,
      "metadata": {
        "colab": {
          "base_uri": "https://localhost:8080/"
        },
        "id": "fIK6ZNn_Rvtx",
        "outputId": "a57b74e3-068e-47bd-8f18-18188c9475ec"
      },
      "outputs": [
        {
          "name": "stdout",
          "output_type": "stream",
          "text": [
            "red\n"
          ]
        }
      ],
      "source": [
        "class marker:\n",
        "  color = \"blue\"\n",
        "  brand = \"camlin\"\n",
        "  length = 30\n",
        "  def __init__(self):\n",
        "    self.color = \"red\"\n",
        "\n",
        "new_marker = marker()\n",
        "print(new_marker.color)"
      ]
    },
    {
      "cell_type": "code",
      "execution_count": null,
      "metadata": {
        "id": "3qr1N33yjfX5"
      },
      "outputs": [],
      "source": [
        "class programming_language:\n",
        "  def __init__(self , language , version , interpreter=True):\n",
        "    self.language = language\n",
        "    self.version = version\n",
        "    self.interpreter = interpreter"
      ]
    },
    {
      "cell_type": "code",
      "execution_count": null,
      "metadata": {
        "colab": {
          "base_uri": "https://localhost:8080/"
        },
        "id": "b95Clslcj0Vm",
        "outputId": "7f4960d0-faff-4a84-eed5-68b84ebc92dc"
      },
      "outputs": [
        {
          "name": "stdout",
          "output_type": "stream",
          "text": [
            "Python 3.9 True\n"
          ]
        }
      ],
      "source": [
        "python_lang = programming_language(\"Python\" , 3.9)\n",
        "print(python_lang.language , python_lang.version , python_lang.interpreter)"
      ]
    },
    {
      "cell_type": "code",
      "execution_count": null,
      "metadata": {
        "colab": {
          "base_uri": "https://localhost:8080/"
        },
        "id": "T5rYWmqGkWYd",
        "outputId": "5aa57f4b-2c19-4170-e3f3-b7bfd87f8c6b"
      },
      "outputs": [
        {
          "name": "stdout",
          "output_type": "stream",
          "text": [
            "<class '__main__.programming_language'>\n",
            "Java 8 False\n"
          ]
        }
      ],
      "source": [
        "java_lang = programming_language(\"Java\" , 8 , False)\n",
        "print(type(java_lang))\n",
        "print(java_lang.language , java_lang.version , java_lang.interpreter)"
      ]
    },
    {
      "cell_type": "markdown",
      "metadata": {
        "id": "X_YDNKBXRvtx"
      },
      "source": [
        "- ### Class Methods"
      ]
    },
    {
      "cell_type": "code",
      "execution_count": null,
      "metadata": {
        "id": "TOg9SYGuRvty"
      },
      "outputs": [],
      "source": [
        "# class methods are class functions"
      ]
    },
    {
      "cell_type": "markdown",
      "metadata": {
        "id": "1J1hbocGRvty"
      },
      "source": [
        "## 3. Inheritance\n",
        "**Inheritance** is the capability of one class to derive or inherit the properties from another class. The class that derives properties is called the derived class or child class and the class from which the properties are being derived is called the base class or parent class.<br>\n",
        "The benefits of inheritance are: <br>\n",
        "- It represents real-world relationships well.\n",
        "- It provides the reusability of a code. We don’t have to write the same code again and again. Also, it allows us to add more features to a class without modifying it.\n",
        "- It is transitive in nature, which means that if class B inherits from another class A, then all the subclasses of B would automatically inherit from class A.<br>\n",
        "\n",
        "### Types of Inheritance <br>\n",
        "**Single Inheritance**:\n",
        "Single-level inheritance enables a derived class to inherit characteristics from a single-parent class.\n",
        "\n",
        "**Multilevel Inheritance**:\n",
        "Multi-level inheritance enables a derived class to inherit properties from an immediate parent class which in turn inherits properties from his parent class.\n",
        "\n",
        "**Hierarchical Inheritance**:\n",
        "Hierarchical level inheritance enables more than one derived class to inherit properties from a parent class.\n",
        "\n",
        "**Multiple Inheritance**:\n",
        "Multiple level inheritance enables one derived class to inherit properties from more than one base class.\n",
        "\n",
        "\n",
        "- ### Class Inheritance"
      ]
    },
    {
      "cell_type": "code",
      "execution_count": null,
      "metadata": {
        "colab": {
          "base_uri": "https://localhost:8080/"
        },
        "id": "KRySGVmERvtz",
        "outputId": "f6e80c29-f424-439e-8104-8eb2464486ea"
      },
      "outputs": [
        {
          "name": "stdout",
          "output_type": "stream",
          "text": [
            "red Honda 200 True\n",
            "red Tata 200 True 4 Tata\n",
            "0\n",
            "20\n",
            "red TVS 200 True 2 TVS\n"
          ]
        }
      ],
      "source": [
        "class vehicle:\n",
        "  color = \"red\"\n",
        "  brand = \"Honda\"\n",
        "  top_speed = 200\n",
        "  is_registered = True\n",
        "  current_speed = 0\n",
        "\n",
        "  def increase_speed(self):\n",
        "    self.current_speed += 20\n",
        "\n",
        "class car(vehicle):\n",
        "  brand = \"Tata\"\n",
        "  wheels = 4\n",
        "\n",
        "new_vehicle = vehicle()\n",
        "print(new_vehicle.color , new_vehicle.brand , new_vehicle.top_speed , new_vehicle.is_registered)\n",
        "\n",
        "new_car = car()\n",
        "print(new_car.color , new_car.brand , new_car.top_speed , new_car.is_registered , new_car.wheels , new_car.brand)\n",
        "\n",
        "print(new_car.current_speed)\n",
        "new_car.increase_speed()\n",
        "print(new_car.current_speed)\n",
        "\n",
        "class bike(vehicle):\n",
        "  brand = \"TVS\"\n",
        "  wheels = 2\n",
        "\n",
        "new_bike = bike()\n",
        "print(new_bike.color , new_bike.brand , new_bike.top_speed , new_bike.is_registered , new_bike.wheels , new_bike.brand)"
      ]
    },
    {
      "cell_type": "markdown",
      "metadata": {
        "id": "GhwMMV01Rvtz"
      },
      "source": [
        "- ### `super()` function"
      ]
    },
    {
      "cell_type": "code",
      "execution_count": null,
      "metadata": {
        "colab": {
          "base_uri": "https://localhost:8080/"
        },
        "id": "Hn6kQxE5Rvt0",
        "outputId": "b7d9f3c1-b751-4a4c-af6a-ad8644d4c83a"
      },
      "outputs": [
        {
          "name": "stdout",
          "output_type": "stream",
          "text": [
            "Blue\n",
            "0\n",
            "40\n",
            "60\n",
            "True\n"
          ]
        }
      ],
      "source": [
        "class vehicle:\n",
        "  color = \"red\"\n",
        "  brand = \"Honda\"\n",
        "  top_speed = 200\n",
        "  is_registered = True\n",
        "  current_speed = 0\n",
        "\n",
        "  def increase_speed(self , speed=20):\n",
        "    self.current_speed += speed\n",
        "\n",
        "class car(vehicle):\n",
        "  brand = \"Tata\"\n",
        "  wheels = 4\n",
        "\n",
        "  def increase_speed_more(self):\n",
        "    super().increase_speed(40)\n",
        "\n",
        "  def change_color(self):\n",
        "    self.color = \"Blue\"\n",
        "\n",
        "new_car = car()\n",
        "new_car.change_color()\n",
        "print(new_car.color)\n",
        "print(new_car.current_speed)\n",
        "new_car.increase_speed_more()\n",
        "print(new_car.current_speed)\n",
        "new_car.increase_speed()\n",
        "print(new_car.current_speed)\n",
        "\n",
        "new_car.new_prop = True\n",
        "print(new_car.new_prop)"
      ]
    },
    {
      "cell_type": "markdown",
      "metadata": {
        "id": "IKs4Hu65Rvt0"
      },
      "source": [
        "- ### Adding more parameters to child class"
      ]
    },
    {
      "cell_type": "code",
      "execution_count": null,
      "metadata": {
        "colab": {
          "base_uri": "https://localhost:8080/"
        },
        "id": "bHr13mQGRvt1",
        "outputId": "dc3744ae-f83e-4c16-a784-712f01d36532"
      },
      "outputs": [
        {
          "name": "stdout",
          "output_type": "stream",
          "text": [
            "Blue\n",
            "Honda\n",
            "Ferrari\n"
          ]
        }
      ],
      "source": []
    },
    {
      "cell_type": "markdown",
      "metadata": {
        "id": "LODK48DFRvt2"
      },
      "source": [
        "## 4. Polymorphism\n",
        "**Polymorphism**  refers to the use of a single type entity (method, operator or object) to represent different types in different scenarios. <br>\n",
        "*poly*: many, *moprhism*: form <br>\n",
        "***Example***: the `+` operator can be used on both int and string data types. <br>\n",
        "Similarly `len()` can be used on strings and data structures.<br>\n",
        "*Python does not support function overloading.*<br>\n",
        "### Implementing polymorphism with inherited classes"
      ]
    },
    {
      "cell_type": "code",
      "execution_count": null,
      "metadata": {
        "colab": {
          "base_uri": "https://localhost:8080/"
        },
        "id": "PqQMZTmxRvt2",
        "outputId": "f9f66945-007e-4457-ae45-ebb4c100b859"
      },
      "outputs": [
        {
          "name": "stdout",
          "output_type": "stream",
          "text": [
            "Blue\n",
            "0\n",
            "40\n",
            "red\n",
            "White\n"
          ]
        }
      ],
      "source": [
        "# function overriding , you override the function of the parent class\n",
        "class vehicle:\n",
        "  color = \"red\"\n",
        "  brand = \"Honda\"\n",
        "  top_speed = 200\n",
        "  is_registered = True\n",
        "  current_speed = 0\n",
        "\n",
        "  def increase_speed(self , speed=20):\n",
        "    self.current_speed += speed\n",
        "\n",
        "  def change_color(self):\n",
        "    self.color = \"White\"\n",
        "\n",
        "class car(vehicle):\n",
        "  brand = \"Tata\"\n",
        "  wheels = 4\n",
        "\n",
        "  def increase_speed(self):\n",
        "    super().increase_speed(40)\n",
        "\n",
        "  def change_color(self):\n",
        "    self.color = \"Blue\"\n",
        "\n",
        "new_car = car()\n",
        "new_car.change_color()\n",
        "print(new_car.color)\n",
        "print(new_car.current_speed)\n",
        "new_car.increase_speed()\n",
        "print(new_car.current_speed)\n",
        "\n",
        "\n",
        "new_vehicle = vehicle()\n",
        "print(new_vehicle.color)\n",
        "new_vehicle.change_color()\n",
        "print(new_vehicle.color)"
      ]
    },
    {
      "cell_type": "markdown",
      "metadata": {
        "id": "XL5nX1LdRvt2"
      },
      "source": [
        "## 5. Abstraction\n",
        "**Abstraction** in Programming is about hiding unwanted details while showing most essential information. <br>\n",
        "Eg: The `range()` function gives us a list of numbers but we are not aware of its implementation or underlying code.<br><br>\n",
        "### Using `__` to hide variables"
      ]
    },
    {
      "cell_type": "code",
      "execution_count": null,
      "metadata": {
        "colab": {
          "base_uri": "https://localhost:8080/"
        },
        "id": "z2w2fhaPRvt3",
        "outputId": "fc10c884-725e-4555-893a-00c86df7eff0"
      },
      "outputs": [
        {
          "name": "stdout",
          "output_type": "stream",
          "text": [
            "Python\n",
            "Java\n"
          ]
        }
      ],
      "source": [
        "from os import name\n",
        "class class_with_private_members():\n",
        "  __name = \"Python\"\n",
        "\n",
        "  # getters\n",
        "  def get_name(self):\n",
        "    return self.__name\n",
        "\n",
        "  # setter\n",
        "  def set_name(self , new_name):\n",
        "    self.__name = new_name\n",
        "\n",
        "new_class = class_with_private_members()\n",
        "print(new_class.get_name())\n",
        "new_class.set_name(\"Java\")\n",
        "print(new_class.get_name())"
      ]
    },
    {
      "cell_type": "markdown",
      "metadata": {
        "id": "bYfgHqGKRvt3"
      },
      "source": [
        "## 6. Encapsulation\n",
        "**Encapsulation** describes the idea of wrapping data and the methods that work on data within one unit. This puts restrictions on accessing variables and methods directly and can prevent the accidental modification of data. To prevent accidental change, an object’s variable can only be changed by an object’s method. <br><br>\n",
        "### Using `__`, getters, setters for encapsulation."
      ]
    },
    {
      "cell_type": "code",
      "execution_count": null,
      "metadata": {
        "colab": {
          "base_uri": "https://localhost:8080/"
        },
        "id": "XCxidW4RRvt3",
        "outputId": "03e56087-e18e-4e2d-9662-11be8ea39759"
      },
      "outputs": [
        {
          "name": "stdout",
          "output_type": "stream",
          "text": [
            "('Jayanth', 'Bangalore', 'Cat')\n",
            "('Ajith', 'Hyderabad', None)\n"
          ]
        }
      ],
      "source": []
    },
    {
      "cell_type": "code",
      "execution_count": null,
      "metadata": {
        "colab": {
          "base_uri": "https://localhost:8080/"
        },
        "id": "3U6jfNq3y8VX",
        "outputId": "79f501ae-267b-40fc-b470-effecd8bde29"
      },
      "outputs": [
        {
          "name": "stdout",
          "output_type": "stream",
          "text": [
            "[0, 1, 2]\n",
            "3\n",
            "10\n",
            "[0, 1, 2, 3, 4, 5, 6, 7, 8, 9]\n"
          ]
        }
      ],
      "source": [
        "class new_range:\n",
        "  __n = 0\n",
        "  def __init__(self , n): # init acts as the setter\n",
        "    self.__n = n\n",
        "\n",
        "  def set_new_range(self , n):\n",
        "    self.__n = n\n",
        "\n",
        "  def get_current_range(self):\n",
        "    return self.__n\n",
        "\n",
        "  def generate_range(self):\n",
        "    return list(range(self.__n))\n",
        "\n",
        "short_range = new_range(3)\n",
        "print(short_range.generate_range())\n",
        "print(short_range.get_current_range())\n",
        "short_range.set_new_range(10)\n",
        "print(short_range.get_current_range())\n",
        "print(short_range.generate_range())ƒ"
      ]
    }
  ],
  "metadata": {
    "colab": {
      "provenance": []
    },
    "gpuClass": "standard",
    "kernelspec": {
      "display_name": "Python 3",
      "name": "python3"
    },
    "language_info": {
      "codemirror_mode": {
        "name": "ipython",
        "version": 3
      },
      "file_extension": ".py",
      "mimetype": "text/x-python",
      "name": "python",
      "nbconvert_exporter": "python",
      "pygments_lexer": "ipython3",
      "version": "3.11.3"
    },
    "orig_nbformat": 4
  },
  "nbformat": 4,
  "nbformat_minor": 0
}
